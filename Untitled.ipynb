{
 "cells": [
  {
   "cell_type": "code",
   "execution_count": 1,
   "id": "5c33b473",
   "metadata": {},
   "outputs": [],
   "source": [
    "import torch\n",
    "from sklearn.metrics import ndcg_score"
   ]
  },
  {
   "cell_type": "code",
   "execution_count": 2,
   "id": "735bc5d5",
   "metadata": {},
   "outputs": [],
   "source": [
    "cur_ranking = torch.FloatTensor([2,3,6,19,21, 25,35,43,54,63,72,75,78,94,99])\n",
    "num_answer = 15\n",
    "answer_list = torch.arange(num_answer).to(torch.float)"
   ]
  },
  {
   "cell_type": "code",
   "execution_count": 3,
   "id": "f001efeb",
   "metadata": {},
   "outputs": [
    {
     "data": {
      "text/plain": [
       "tensor(1.4917)"
      ]
     },
     "execution_count": 3,
     "metadata": {},
     "output_type": "execute_result"
    }
   ],
   "source": [
    "torch.sum( ((cur_ranking <= 20).to(torch.float))/(torch.log2(cur_ranking+2).to(torch.float)) )"
   ]
  },
  {
   "cell_type": "code",
   "execution_count": 4,
   "id": "9ceab914",
   "metadata": {},
   "outputs": [
    {
     "data": {
      "text/plain": [
       "tensor(5.8613)"
      ]
     },
     "execution_count": 4,
     "metadata": {},
     "output_type": "execute_result"
    }
   ],
   "source": [
    "torch.sum( (torch.ones_like(cur_ranking)) / (torch.log2(answer_list+2).to(torch.float)) )"
   ]
  },
  {
   "cell_type": "code",
   "execution_count": 5,
   "id": "b968f0ee",
   "metadata": {},
   "outputs": [],
   "source": [
    "dcg20 = torch.sum( ((cur_ranking <= 20).to(torch.float))/(torch.log2(cur_ranking+2).to(torch.float)) )\n",
    "idcg20 = torch.sum( (torch.ones_like(cur_ranking)) / (torch.log2(answer_list+2).to(torch.float)) )\n",
    "ndcg20 = float(dcg20/idcg20)"
   ]
  },
  {
   "cell_type": "code",
   "execution_count": 6,
   "id": "9c62d6c1",
   "metadata": {},
   "outputs": [
    {
     "data": {
      "text/plain": [
       "0.2544943690299988"
      ]
     },
     "execution_count": 6,
     "metadata": {},
     "output_type": "execute_result"
    }
   ],
   "source": [
    "ndcg20"
   ]
  },
  {
   "cell_type": "code",
   "execution_count": 7,
   "id": "3eba5cfb",
   "metadata": {},
   "outputs": [
    {
     "data": {
      "text/plain": [
       "0.2"
      ]
     },
     "execution_count": 7,
     "metadata": {},
     "output_type": "execute_result"
    }
   ],
   "source": [
    "prec = float(torch.sum((cur_ranking <= 20).to(torch.float)).item() / 20)\n",
    "prec"
   ]
  },
  {
   "cell_type": "code",
   "execution_count": 10,
   "id": "64c06a5f",
   "metadata": {},
   "outputs": [
    {
     "data": {
      "text/plain": [
       "tensor([ 6., 19.])"
      ]
     },
     "execution_count": 10,
     "metadata": {},
     "output_type": "execute_result"
    }
   ],
   "source": [
    "index = torch.LongTensor([2,3])\n",
    "cur_ranking[index]"
   ]
  },
  {
   "cell_type": "code",
   "execution_count": null,
   "id": "c8b3b91f",
   "metadata": {},
   "outputs": [],
   "source": []
  }
 ],
 "metadata": {
  "kernelspec": {
   "display_name": "Python 3",
   "language": "python",
   "name": "python3"
  },
  "language_info": {
   "codemirror_mode": {
    "name": "ipython",
    "version": 3
   },
   "file_extension": ".py",
   "mimetype": "text/x-python",
   "name": "python",
   "nbconvert_exporter": "python",
   "pygments_lexer": "ipython3",
   "version": "3.8.8"
  }
 },
 "nbformat": 4,
 "nbformat_minor": 5
}
